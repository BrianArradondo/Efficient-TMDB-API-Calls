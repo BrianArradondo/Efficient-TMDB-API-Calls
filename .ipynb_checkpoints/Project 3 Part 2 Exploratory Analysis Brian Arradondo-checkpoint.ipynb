{
 "cells": [
  {
   "cell_type": "markdown",
   "id": "1001ea93",
   "metadata": {},
   "source": [
    "# Exploratory Data Analysis\n",
    "- Load in your csv.gz's of results for each year extracted.\n",
    "1. Concatenate the data into 1 dataframe for the remainder of the analysis.\n",
    "- Once you have your data from the API, they would like you to perform some light EDA to show:\n",
    "1. How many movies had at least some valid financial information (values > 0 for budget OR revenue)?\n",
    "- Please exclude any movies with 0's for budget AND revenue from the remaining visualizations.\n",
    "2. How many movies are there in each of the certification categories (G/PG/PG-13/R)?\n",
    "3. What is the average revenue per certification category?\n",
    "4. What is the average budget per certification category?"
   ]
  },
  {
   "cell_type": "code",
   "execution_count": 5,
   "id": "2ffe0283",
   "metadata": {},
   "outputs": [],
   "source": [
    "import pandas as pd\n",
    "import numpy as np"
   ]
  },
  {
   "cell_type": "code",
   "execution_count": 6,
   "id": "dc4b1eb8",
   "metadata": {},
   "outputs": [
    {
     "name": "stdout",
     "output_type": "stream",
     "text": [
      "<class 'pandas.core.frame.DataFrame'>\n",
      "RangeIndex: 1336 entries, 0 to 1335\n",
      "Data columns (total 26 columns):\n",
      " #   Column                 Non-Null Count  Dtype  \n",
      "---  ------                 --------------  -----  \n",
      " 0   imdb_id                1336 non-null   object \n",
      " 1   adult                  1335 non-null   float64\n",
      " 2   backdrop_path          720 non-null    object \n",
      " 3   belongs_to_collection  92 non-null     object \n",
      " 4   budget                 1335 non-null   float64\n",
      " 5   genres                 1335 non-null   object \n",
      " 6   homepage               109 non-null    object \n",
      " 7   id                     1335 non-null   float64\n",
      " 8   original_language      1335 non-null   object \n",
      " 9   original_title         1335 non-null   object \n",
      " 10  overview               1306 non-null   object \n",
      " 11  popularity             1335 non-null   float64\n",
      " 12  poster_path            1199 non-null   object \n",
      " 13  production_companies   1335 non-null   object \n",
      " 14  production_countries   1335 non-null   object \n",
      " 15  release_date           1320 non-null   object \n",
      " 16  revenue                1335 non-null   float64\n",
      " 17  runtime                1335 non-null   float64\n",
      " 18  spoken_languages       1335 non-null   object \n",
      " 19  status                 1335 non-null   object \n",
      " 20  tagline                553 non-null    object \n",
      " 21  title                  1335 non-null   object \n",
      " 22  video                  1335 non-null   float64\n",
      " 23  vote_average           1335 non-null   float64\n",
      " 24  vote_count             1335 non-null   float64\n",
      " 25  certification          423 non-null    object \n",
      "dtypes: float64(9), object(17)\n",
      "memory usage: 271.5+ KB\n"
     ]
    }
   ],
   "source": [
    "df2000 = pd.read_csv(\"/Users/obsid/Efficient-TMDB-API-Calls/Data/final_tmdb_data_2000.csv.gz\")\n",
    "df2001 = pd.read_csv(\"/Users/obsid/Efficient-TMDB-API-Calls/Data/final_tmdb_data_2001.csv.gz\")\n",
    "\n",
    "df2001.info()"
   ]
  },
  {
   "cell_type": "code",
   "execution_count": 7,
   "id": "7f96a40d",
   "metadata": {},
   "outputs": [
    {
     "name": "stdout",
     "output_type": "stream",
     "text": [
      "<class 'pandas.core.frame.DataFrame'>\n",
      "RangeIndex: 1240 entries, 0 to 1239\n",
      "Data columns (total 26 columns):\n",
      " #   Column                 Non-Null Count  Dtype  \n",
      "---  ------                 --------------  -----  \n",
      " 0   imdb_id                1240 non-null   object \n",
      " 1   adult                  1239 non-null   float64\n",
      " 2   backdrop_path          688 non-null    object \n",
      " 3   belongs_to_collection  116 non-null    object \n",
      " 4   budget                 1239 non-null   float64\n",
      " 5   genres                 1239 non-null   object \n",
      " 6   homepage               63 non-null     object \n",
      " 7   id                     1239 non-null   float64\n",
      " 8   original_language      1239 non-null   object \n",
      " 9   original_title         1239 non-null   object \n",
      " 10  overview               1218 non-null   object \n",
      " 11  popularity             1239 non-null   float64\n",
      " 12  poster_path            1117 non-null   object \n",
      " 13  production_companies   1239 non-null   object \n",
      " 14  production_countries   1239 non-null   object \n",
      " 15  release_date           1230 non-null   object \n",
      " 16  revenue                1239 non-null   float64\n",
      " 17  runtime                1239 non-null   float64\n",
      " 18  spoken_languages       1239 non-null   object \n",
      " 19  status                 1239 non-null   object \n",
      " 20  tagline                553 non-null    object \n",
      " 21  title                  1239 non-null   object \n",
      " 22  video                  1239 non-null   float64\n",
      " 23  vote_average           1239 non-null   float64\n",
      " 24  vote_count             1239 non-null   float64\n",
      " 25  certification          391 non-null    object \n",
      "dtypes: float64(9), object(17)\n",
      "memory usage: 252.0+ KB\n"
     ]
    }
   ],
   "source": [
    "df2000.info()"
   ]
  },
  {
   "cell_type": "code",
   "execution_count": null,
   "id": "357aea14",
   "metadata": {},
   "outputs": [],
   "source": []
  }
 ],
 "metadata": {
  "kernelspec": {
   "display_name": "Python (dojo-env)",
   "language": "python",
   "name": "dojo-env"
  },
  "language_info": {
   "codemirror_mode": {
    "name": "ipython",
    "version": 3
   },
   "file_extension": ".py",
   "mimetype": "text/x-python",
   "name": "python",
   "nbconvert_exporter": "python",
   "pygments_lexer": "ipython3",
   "version": "3.9.15"
  },
  "toc": {
   "base_numbering": 1,
   "nav_menu": {},
   "number_sections": true,
   "sideBar": true,
   "skip_h1_title": false,
   "title_cell": "Table of Contents",
   "title_sidebar": "Contents",
   "toc_cell": false,
   "toc_position": {},
   "toc_section_display": true,
   "toc_window_display": false
  }
 },
 "nbformat": 4,
 "nbformat_minor": 5
}
